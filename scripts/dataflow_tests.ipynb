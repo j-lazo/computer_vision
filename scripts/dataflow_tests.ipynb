{
 "cells": [
  {
   "cell_type": "code",
   "execution_count": 14,
   "metadata": {},
   "outputs": [
    {
     "ename": "ValueError",
     "evalue": "attempted relative import beyond top-level package",
     "output_type": "error",
     "traceback": [
      "\u001B[0;31m---------------------------------------------------------------------------\u001B[0m",
      "\u001B[0;31mValueError\u001B[0m                                Traceback (most recent call last)",
      "Input \u001B[0;32mIn [14]\u001B[0m, in \u001B[0;36m<module>\u001B[0;34m\u001B[0m\n\u001B[1;32m      8\u001B[0m \u001B[38;5;28;01mfrom\u001B[39;00m \u001B[38;5;21;01mmatplotlib\u001B[39;00m \u001B[38;5;28;01mimport\u001B[39;00m pyplot \u001B[38;5;28;01mas\u001B[39;00m plt\n\u001B[1;32m      9\u001B[0m \u001B[38;5;28;01mimport\u001B[39;00m \u001B[38;5;21;01mcv2\u001B[39;00m\n\u001B[0;32m---> 10\u001B[0m \u001B[38;5;28;01mfrom\u001B[39;00m \u001B[38;5;21;01mclassification\u001B[39;00m \u001B[38;5;28;01mimport\u001B[39;00m call_models \u001B[38;5;28;01mas\u001B[39;00m img_class\n\u001B[1;32m     11\u001B[0m \u001B[38;5;28;01mfrom\u001B[39;00m \u001B[38;5;21;01msegmentation\u001B[39;00m \u001B[38;5;28;01mimport\u001B[39;00m call_models \u001B[38;5;28;01mas\u001B[39;00m segm\n\u001B[1;32m     12\u001B[0m \u001B[38;5;28;01mfrom\u001B[39;00m \u001B[38;5;21;01mclassification\u001B[39;00m \u001B[38;5;28;01mimport\u001B[39;00m grad_cam \u001B[38;5;28;01mas\u001B[39;00m gc\n",
      "File \u001B[0;32m/media/benoit/DATA/Jorge/current_work/code_projects/computer_vision/scripts/classification/call_models.py:27\u001B[0m, in \u001B[0;36m<module>\u001B[0;34m\u001B[0m\n\u001B[1;32m     24\u001B[0m \u001B[38;5;28;01mfrom\u001B[39;00m \u001B[38;5;21;01mtensorflow\u001B[39;00m \u001B[38;5;28;01mimport\u001B[39;00m keras\n\u001B[1;32m     25\u001B[0m sys\u001B[38;5;241m.\u001B[39mpath\u001B[38;5;241m.\u001B[39mappend(os\u001B[38;5;241m.\u001B[39mgetcwd() \u001B[38;5;241m+\u001B[39m \u001B[38;5;124m'\u001B[39m\u001B[38;5;124m/scripts/general_functions/\u001B[39m\u001B[38;5;124m'\u001B[39m)\n\u001B[0;32m---> 27\u001B[0m \u001B[38;5;28;01mimport\u001B[39;00m \u001B[38;5;21;01mdata_management\u001B[39;00m \u001B[38;5;28;01mas\u001B[39;00m \u001B[38;5;21;01mdam\u001B[39;00m\n\u001B[1;32m     28\u001B[0m \u001B[38;5;28;01mimport\u001B[39;00m \u001B[38;5;21;01mdata_analysis\u001B[39;00m \u001B[38;5;28;01mas\u001B[39;00m \u001B[38;5;21;01mdaa\u001B[39;00m\n\u001B[1;32m     29\u001B[0m \u001B[38;5;28;01mfrom\u001B[39;00m \u001B[38;5;21;01mclassification\u001B[39;00m \u001B[38;5;28;01mimport\u001B[39;00m classification_models \u001B[38;5;28;01mas\u001B[39;00m cms\n",
      "\u001B[0;31mValueError\u001B[0m: attempted relative import beyond top-level package"
     ]
    }
   ],
   "source": [
    "import numpy as np\n",
    "from keras.preprocessing.image import ImageDataGenerator\n",
    "import os\n",
    "import argparse\n",
    "from absl import app, flags, logging\n",
    "from absl.flags import FLAGS\n",
    "from general_functions import data_management as dam\n",
    "from matplotlib import pyplot as plt\n",
    "import cv2\n",
    "from classification import call_models as img_class\n",
    "from segmentation import call_models as segm\n",
    "from classification import grad_cam as gc\n",
    "directory_train = ''"
   ]
  },
  {
   "cell_type": "code",
   "execution_count": 8,
   "metadata": {
    "pycharm": {
     "name": "#%%\n"
    }
   },
   "outputs": [
    {
     "ename": "NameError",
     "evalue": "name 'imgclass' is not defined",
     "output_type": "error",
     "traceback": [
      "\u001B[0;31m---------------------------------------------------------------------------\u001B[0m",
      "\u001B[0;31mNameError\u001B[0m                                 Traceback (most recent call last)",
      "Input \u001B[0;32mIn [8]\u001B[0m, in \u001B[0;36m<module>\u001B[0;34m\u001B[0m\n\u001B[0;32m----> 1\u001B[0m data_generator, num_classes \u001B[38;5;241m=\u001B[39m \u001B[43mimgclass\u001B[49m\u001B[38;5;241m.\u001B[39mload_data(directory_train, annotations_file\u001B[38;5;241m=\u001B[39m\u001B[38;5;124m'\u001B[39m\u001B[38;5;124m'\u001B[39m, backbone_model\u001B[38;5;241m=\u001B[39m\u001B[38;5;124m'\u001B[39m\u001B[38;5;124mvgg19\u001B[39m\u001B[38;5;124m'\u001B[39m)\n\u001B[1;32m      2\u001B[0m \u001B[38;5;28mprint\u001B[39m(\u001B[38;5;124m'\u001B[39m\u001B[38;5;124moalkease\u001B[39m\u001B[38;5;124m'\u001B[39m)\n\u001B[1;32m      3\u001B[0m \u001B[38;5;28mprint\u001B[39m(num_classes)\n",
      "\u001B[0;31mNameError\u001B[0m: name 'imgclass' is not defined"
     ]
    }
   ],
   "source": [
    "data_generator, num_classes = imgclass.load_data(directory_train, annotations_file='', backbone_model='vgg19')\n",
    "print('oalkease')\n",
    "print(num_classes)\n",
    "print(data_generator)"
   ]
  }
 ],
 "metadata": {
  "kernelspec": {
   "display_name": "Python 3 (ipykernel)",
   "language": "python",
   "name": "python3"
  },
  "language_info": {
   "codemirror_mode": {
    "name": "ipython",
    "version": 3
   },
   "file_extension": ".py",
   "mimetype": "text/x-python",
   "name": "python",
   "nbconvert_exporter": "python",
   "pygments_lexer": "ipython3",
   "version": "3.8.10"
  }
 },
 "nbformat": 4,
 "nbformat_minor": 1
}